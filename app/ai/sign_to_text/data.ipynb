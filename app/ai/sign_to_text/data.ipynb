{
 "cells": [
  {
   "cell_type": "code",
   "execution_count": null,
   "id": "951c4e33",
   "metadata": {},
   "outputs": [],
   "source": [
    "import os\n",
    "import shutil\n",
    "\n",
    "# 1) Get the parent directory (where this script and 'otherDatasets' live)\n",
    "PARENT_DIR = os.getcwd()\n",
    "OTHER_DIR  = os.path.join(PARENT_DIR, \"otherDatasets\")\n",
    "MERGED_DIR = os.path.join(PARENT_DIR, \"mergedData\")\n",
    "\n",
    "# 2) Find all dataset subfolders under 'otherDatasets', skipping any mergedData\n",
    "DATASETS = [\n",
    "    d for d in os.listdir(OTHER_DIR)\n",
    "    if os.path.isdir(os.path.join(OTHER_DIR, d))\n",
    "    and d.lower() != \"mergeddata\"\n",
    "]\n",
    "\n",
    "# 3) Create the 'mergedData' folder at the same level as 'otherDatasets'\n",
    "os.makedirs(MERGED_DIR, exist_ok=True)\n",
    "\n",
    "for ds in DATASETS:\n",
    "    ds_path    = os.path.join(OTHER_DIR, ds)\n",
    "    train_path = os.path.join(ds_path, \"train\")\n",
    "\n",
    "    # If there's a train/ folder, only process that; otherwise process the dataset root.\n",
    "    roots = [train_path] if os.path.isdir(train_path) else [ds_path]\n",
    "\n",
    "    for root in roots:\n",
    "        for folder in os.listdir(root):\n",
    "            folder_src = os.path.join(root, folder)\n",
    "            if not os.path.isdir(folder_src):\n",
    "                continue\n",
    "\n",
    "            # Normalize to uppercase\n",
    "            folder_name = folder.upper()\n",
    "            folder_dst  = os.path.join(MERGED_DIR, folder_name)\n",
    "            os.makedirs(folder_dst, exist_ok=True)\n",
    "\n",
    "            # Copy each file into mergedData/<LETTER>/,\n",
    "            # appending the dataset name to the filename\n",
    "            for fname in os.listdir(folder_src):\n",
    "                src_file = os.path.join(folder_src, fname)\n",
    "                if not os.path.isfile(src_file):\n",
    "                    continue  # skip subfolders, etc.\n",
    "\n",
    "                base, ext = os.path.splitext(fname)\n",
    "                new_fname = f\"{base}_{ds}{ext}\"\n",
    "                dst_file  = os.path.join(folder_dst, new_fname)\n",
    "\n",
    "                # Skip duplicates if they somehow collide\n",
    "                if os.path.exists(dst_file):\n",
    "                    print(f\"Skipping duplicate: {dst_file}\")\n",
    "                    continue\n",
    "\n",
    "                shutil.copy2(src_file, dst_file)\n"
   ]
  }
 ],
 "metadata": {
  "kernelspec": {
   "display_name": "py312",
   "language": "python",
   "name": "python3"
  },
  "language_info": {
   "codemirror_mode": {
    "name": "ipython",
    "version": 3
   },
   "file_extension": ".py",
   "mimetype": "text/x-python",
   "name": "python",
   "nbconvert_exporter": "python",
   "pygments_lexer": "ipython3",
   "version": "3.12.10"
  }
 },
 "nbformat": 4,
 "nbformat_minor": 5
}
