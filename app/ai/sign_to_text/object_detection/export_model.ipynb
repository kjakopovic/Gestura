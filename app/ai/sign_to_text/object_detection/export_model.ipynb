{
 "cells": [
  {
   "cell_type": "code",
   "execution_count": null,
   "metadata": {},
   "outputs": [],
   "source": [
    "import paths"
   ]
  },
  {
   "cell_type": "markdown",
   "metadata": {},
   "source": [
    "## Export and convert to TFjs"
   ]
  },
  {
   "cell_type": "code",
   "execution_count": null,
   "metadata": {},
   "outputs": [],
   "source": [
    "# Save Model graph script\n",
    "print(f\"python {paths.APIMODEL_PATH}/research/object_detection/exporter_main_v2.py --input_type=image_tensor --pipeline_config_path={paths.CONFIG_PATH} --trained_checkpoint_dir={paths.CHECKPOINT_PATH} --output_directory={paths.CHECKPOINT_PATH}export\")"
   ]
  },
  {
   "cell_type": "code",
   "execution_count": null,
   "metadata": {},
   "outputs": [],
   "source": [
    "# Convert to TFjs\n",
    "print(f\"tensorflowjs_converter --input_format=tf_saved_model --output_node_names='detection_boxes,detection_classes,detection_features,detection_multiclass_scores,detection_scores,num_detections,raw_detection_boxes,raw_detection_scores' --output_format=tfjs_graph_model --signature_name=serving_default {paths.CHECKPOINT_PATH}export/saved_model {paths.CHECKPOINT_PATH}converted\")"
   ]
  }
 ],
 "metadata": {
  "kernelspec": {
   "display_name": "obj_detection_tensorflowJS",
   "language": "python",
   "name": "python3"
  },
  "language_info": {
   "codemirror_mode": {
    "name": "ipython",
    "version": 3
   },
   "file_extension": ".py",
   "mimetype": "text/x-python",
   "name": "python",
   "nbconvert_exporter": "python",
   "pygments_lexer": "ipython3",
   "version": "3.9.21"
  }
 },
 "nbformat": 4,
 "nbformat_minor": 2
}
