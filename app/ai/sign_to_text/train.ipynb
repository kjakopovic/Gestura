{
 "cells": [
  {
   "cell_type": "code",
   "execution_count": null,
   "id": "36533daa",
   "metadata": {},
   "outputs": [],
   "source": [
    "# Script for installing latest CUDA for pyTorch\n",
    "%pip install torch torchvision torchaudio --index-url https://download.pytorch.org/whl/cu126"
   ]
  },
  {
   "cell_type": "code",
   "execution_count": null,
   "id": "4e33ba30",
   "metadata": {},
   "outputs": [],
   "source": [
    "from ultralytics import YOLO\n",
    "import torch\n",
    "\n",
    "# Main\n",
    "import os\n",
    "import glob\n",
    "import cv2\n",
    "import numpy as np\n",
    "import pandas as pd\n",
    "import gc\n",
    "import string\n",
    "import time\n",
    "import random\n",
    "import imutils\n",
    "from PIL import Image\n",
    "from tqdm import tqdm\n",
    "tqdm.pandas()\n",
    "from dataclasses import dataclass\n",
    "\n",
    "# Visualization\n",
    "import matplotlib\n",
    "import matplotlib.pyplot as plt\n",
    "import plotly\n",
    "import plotly.graph_objects as go\n",
    "import plotly.express as px\n",
    "from plotly.subplots import make_subplots\n",
    "import seaborn as sns\n",
    "from sklearn.manifold import TSNE"
   ]
  },
  {
   "cell_type": "code",
   "execution_count": null,
   "id": "25de5a90",
   "metadata": {},
   "outputs": [],
   "source": [
    "# Check CUDA\n",
    "def get_cuda_device() -> torch.device:\n",
    "    print(\"Listing all available CUDA devices:\")\n",
    "\n",
    "    for i in range(torch.cuda.device_count()):\n",
    "        print(f\"Device {i}: {torch.cuda.get_device_name(i)}\")\n",
    "\n",
    "    device = torch.device(\"cuda\" if torch.cuda.is_available() else \"cpu\")\n",
    "\n",
    "    print(device)\n",
    "\n",
    "    return device\n",
    "\n",
    "device = get_cuda_device()"
   ]
  },
  {
   "cell_type": "code",
   "execution_count": null,
   "id": "8e8ab511",
   "metadata": {},
   "outputs": [],
   "source": [
    "model = YOLO(\"models/yolo11n-cls.pt\")"
   ]
  },
  {
   "cell_type": "code",
   "execution_count": null,
   "id": "c3472be3",
   "metadata": {},
   "outputs": [],
   "source": [
    "# TODO: data is custom data, image size needs to be adjusted (hopefully 200x200)\n",
    "# Device 0 shows my graphics card\n",
    "# results = model.train(data=\"mnist160\", epochs=100, imgsz=64, device=0)"
   ]
  },
  {
   "cell_type": "code",
   "execution_count": null,
   "id": "ebc5e6e9",
   "metadata": {},
   "outputs": [],
   "source": [
    "trained_model = YOLO(\"models/yolo11n-cls.pt\") # TODO: path to best model\n",
    "model.export(format=\"onnx\")"
   ]
  }
 ],
 "metadata": {
  "kernelspec": {
   "display_name": "Python 3",
   "language": "python",
   "name": "python3"
  },
  "language_info": {
   "codemirror_mode": {
    "name": "ipython",
    "version": 3
   },
   "file_extension": ".py",
   "mimetype": "text/x-python",
   "name": "python",
   "nbconvert_exporter": "python",
   "pygments_lexer": "ipython3",
   "version": "3.11.0"
  }
 },
 "nbformat": 4,
 "nbformat_minor": 5
}
