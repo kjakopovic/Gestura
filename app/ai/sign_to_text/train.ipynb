{
 "cells": [
  {
   "cell_type": "code",
   "execution_count": null,
   "id": "36533daa",
   "metadata": {},
   "outputs": [],
   "source": [
    "# Script for installing latest CUDA for pyTorch\n",
    "%pip install torch torchvision torchaudio --index-url https://download.pytorch.org/whl/cu124"
   ]
  },
  {
   "cell_type": "code",
   "execution_count": null,
   "id": "4e33ba30",
   "metadata": {},
   "outputs": [],
   "source": [
    "from ultralytics import YOLO\n",
    "import albumentations\n",
    "import utils\n",
    "\n",
    "# Main\n",
    "import shutil\n",
    "import os\n",
    "import glob\n",
    "import numpy as np\n",
    "import string\n",
    "import random\n",
    "from tqdm import tqdm\n",
    "tqdm.pandas()\n",
    "from dataclasses import dataclass"
   ]
  },
  {
   "cell_type": "code",
   "execution_count": null,
   "id": "25de5a90",
   "metadata": {},
   "outputs": [],
   "source": [
    "# Check CUDA\n",
    "device = utils.get_cuda_device()"
   ]
  },
  {
   "cell_type": "code",
   "execution_count": null,
   "id": "b0bb9c83",
   "metadata": {},
   "outputs": [],
   "source": [
    "@dataclass\n",
    "class CFG():\n",
    "    batch_size: int = 16\n",
    "    img_size: int = 224\n",
    "    epochs: int = 500\n",
    "    seed: int = 69\n",
    "\n",
    "random.seed(CFG.seed)\n",
    "os.environ[\"PYTHONHASHSEED\"] = str(CFG.seed)\n",
    "np.random.seed(CFG.seed)"
   ]
  },
  {
   "cell_type": "code",
   "execution_count": null,
   "id": "2d389196",
   "metadata": {},
   "outputs": [],
   "source": [
    "# Labels\n",
    "TRAIN_PATH = \"./data/train\"\n",
    "TEST_PATH = \"./data/test\"\n",
    "VAL_PATH = \"./data/val\"\n",
    "labels = []\n",
    "letters = list(string.ascii_uppercase)\n",
    "labels.extend(letters)\n",
    "labels.extend([\"nothing\"])\n",
    "print(labels)"
   ]
  },
  {
   "cell_type": "code",
   "execution_count": null,
   "id": "784ee721",
   "metadata": {},
   "outputs": [],
   "source": [
    "# Visualize dataset\n",
    "utils.plot_sample_imgs(labels, TRAIN_PATH)"
   ]
  },
  {
   "cell_type": "code",
   "execution_count": null,
   "id": "74349323",
   "metadata": {},
   "outputs": [],
   "source": [
    "# Create val dataset\n",
    "\n",
    "# Ensure validation directory exists\n",
    "os.makedirs(VAL_PATH, exist_ok=True)\n",
    "\n",
    "# Get all class folders from training data\n",
    "class_folders = [f for f in os.listdir(TRAIN_PATH) if os.path.isdir(os.path.join(TRAIN_PATH, f))]\n",
    "\n",
    "# Process each class\n",
    "for class_name in class_folders:\n",
    "    print(f\"Processing class: {class_name}\")\n",
    "    \n",
    "    # Create corresponding folder in validation directory\n",
    "    val_class_path = os.path.join(VAL_PATH, class_name)\n",
    "    os.makedirs(val_class_path, exist_ok=True)\n",
    "    \n",
    "    # Get all images for this class\n",
    "    train_class_path = os.path.join(TRAIN_PATH, class_name)\n",
    "    image_files = glob.glob(os.path.join(train_class_path, \"*.*\"))\n",
    "    \n",
    "    # Calculate how many images to move (10%)\n",
    "    num_to_select = max(1, int(len(image_files) * 0.1))\n",
    "    \n",
    "    # Randomly select images\n",
    "    selected_images = random.sample(image_files, num_to_select)\n",
    "    \n",
    "    # Copy selected images to validation folder\n",
    "    for img_path in selected_images:\n",
    "        img_filename = os.path.basename(img_path)\n",
    "        dst_path = os.path.join(val_class_path, img_filename)\n",
    "        shutil.copy2(img_path, dst_path)\n",
    "    \n",
    "    print(f\"  Moved {num_to_select} images to validation set\")\n",
    "\n",
    "print(\"Done! Validation set created at\", VAL_PATH)"
   ]
  },
  {
   "cell_type": "code",
   "execution_count": null,
   "id": "8e8ab511",
   "metadata": {},
   "outputs": [],
   "source": [
    "model = YOLO(\"yolo11n-cls.pt\")"
   ]
  },
  {
   "cell_type": "code",
   "execution_count": null,
   "id": "c3472be3",
   "metadata": {},
   "outputs": [],
   "source": [
    "results = model.train(\n",
    "    data         = './data',\n",
    "    epochs       = CFG.epochs,          \n",
    "    imgsz        = CFG.img_size,\n",
    "    batch        = CFG.batch_size,\n",
    "    amp          = True,\n",
    "    # ────── geometric / multi‐scale ──────\n",
    "    degrees      = 20,            # ±20° rotation\n",
    "    translate    = 0.1,           # ±10% shift\n",
    "    scale        = 0.2,           # up/down to 50% size\n",
    "    shear        = 5,             # ±5° shear\n",
    "    perspective  = 0.001,         # small perspective warp\n",
    "    multi_scale  = True,          # random resize between 0.5–1.5× during training :contentReference[oaicite:0]{index=0}\n",
    "\n",
    "    # ────── flips ──────\n",
    "    flipud       = 0.2,           # 20% chance vertical flip\n",
    "    fliplr       = 0.5,           # 50% chance horizontal flip\n",
    "\n",
    "    # ────── color jitter ──────\n",
    "    hsv_h        = 0.015,         # hue shift limit  \n",
    "    hsv_s        = 0.7,           # saturation shift limit  \n",
    "    hsv_v        = 0.4,           # value (brightness) shift limit\n",
    "\n",
    "    # ────── advanced mixing ──────\n",
    "    mosaic       = 0.0,           # use Mosaic augmentation  \n",
    "    mixup        = 0.0,           # 50% MixUp :contentReference[oaicite:1]{index=1}\n",
    "\n",
    "    # ────── classification‐only augmentations ──────\n",
    "    auto_augment = 'randaugment', # or 'autoaugment' / 'augmix'\n",
    "    erasing      = 0.0            # random erase 40% of image regions :contentReference[oaicite:2]{index=2}\n",
    ")\n"
   ]
  },
  {
   "cell_type": "code",
   "execution_count": null,
   "id": "ebc5e6e9",
   "metadata": {},
   "outputs": [],
   "source": [
    "trained_model = YOLO(\"runs/classify/train/weights/best.pt\")\n",
    "trained_model.export(format=\"onnx\")"
   ]
  }
 ],
 "metadata": {
  "kernelspec": {
   "display_name": "py312",
   "language": "python",
   "name": "python3"
  },
  "language_info": {
   "codemirror_mode": {
    "name": "ipython",
    "version": 3
   },
   "file_extension": ".py",
   "mimetype": "text/x-python",
   "name": "python",
   "nbconvert_exporter": "python",
   "pygments_lexer": "ipython3",
   "version": "3.12.10"
  }
 },
 "nbformat": 4,
 "nbformat_minor": 5
}
